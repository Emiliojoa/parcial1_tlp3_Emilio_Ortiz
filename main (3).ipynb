{
 "cells": [
  {
   "cell_type": "markdown",
   "id": "9fee5ee9",
   "metadata": {},
   "source": [
    "# Examen Parcial n°1 2da Parte - TLP3 - Python para Ciencia de Datos.\n"
   ]
  },
  {
   "cell_type": "markdown",
   "id": "999099d0",
   "metadata": {},
   "source": [
    "**A partir del datasets brindado, realizar los siguientes procedimientos:**\n",
    "\n",
    "* Importar datasets con Pandas.\n",
    "* Explorar los datos con los metodos correspondientes. \n",
    "* Limpieza de los datos (Normalización de datos).\n",
    "* Obtener estadisticas.\n",
    "* Mostrar los datos procesados con graficos utilizando la libreria Matplotlib.\n",
    "* Exportar el contenido a un archivo sqlite utilizando PANDAS.\n",
    "\n",
    "\n",
    "**Importante: Se debe documentar cada procedimiento realizado, siguiendo la siguiente estructura:**\n",
    "\n",
    "1. Celda de Markdown (Documentación)\n",
    "2. Código (Sin comentarios, se debe documentar lo sufiente solo en la celda de markdown).\n",
    "\n",
    "\n",
    "### Criterios de Evaluación:\n",
    "\n",
    "1. No esta permitido el uso de IAs durante el examen. (Desactivar Copilot o cualquier herramienta de IA para autocompletar codigo.)\n",
    "\n",
    "2. Se deben utilizar nombres de variables descriptivos y claros (Utilizar la nomeclatura correspondiente para los nombres de variables).\n",
    "\n",
    "3. Comentarios claros y concisos que expliquen el propósito de cada sección del código en una celda de markdown antes del código.\n",
    "\n",
    "4. Utilizar mensajes de commit descriptivos. (Puedes utilizar la extension CONVENTIONAL COMMIT de VS-CODE).\n",
    "\n",
    "5. Entrega en tiempo y forma (Parciales entregados fuera de hora o con commits pasados el horario de entrega quedará invalidado.)\n",
    "\n",
    "6. Todo el código desarrollado debe ser subido a un repositorio en GitHub (el nombre del repositorio de seguir la siguiente estructura: \n",
    "**parcial1_tlp3_nombre_apellido**).\n",
    "\n",
    "7. Para resolver las actividades se debe insertar casillas de codigo entre cada actividad del cuaderno de Jupyter.\n",
    "\n",
    "8. Deben trabajar con el datasets adjunto.\n",
    "\n",
    "9. Una vez finalizado el examen, los resultados deben quedar guardados debajo de cada celda (NO EJECUTAR LA OPCIÓN \"borrar todas las salidas\").\n",
    "\n",
    "**Importante:** Una vez finalizado el examen, marcar como completado en el classroom."
   ]
  },
  {
   "cell_type": "markdown",
   "id": "dd91f969",
   "metadata": {},
   "source": [
    "## Actividades: \n",
    "### 1. Importación del Dataset con Pandas\n",
    "\n",
    "En esta sección, se debe utilizar la librería Pandas para cargar el archivo CSV que contiene los datos de VENTAS en un DataFrame.\n",
    "\n",
    "### 2. Exploración Inicial de los Datos\n",
    "\n",
    "A continuación, se deben emplear métodos de Pandas para obtener una visión general del dataset. \n",
    "- 2.1: Visualizar las primeras filas y ultimas.\n",
    "- 2.2: Obtener informacion del df con su metodo correspondiente.\n",
    "- 2.3: Hacer un conteo de valores nulos.\n",
    "\n",
    "### 3. Limpieza y Normalización de los Datos\n",
    "\n",
    "- 3.1. Esta etapa crucial deben aplicar la corrección de diversos errores presentes en el dataset. Se abordarán los valores faltantes (Deben aplicar los metodos que ustedes crean convenientes **(Solo 1)**, por ejemplo: Eliminación de filas, cubrir valores con media, mediana, etc.)\n",
    "- 3.2: La columna Fecha deberan pasarla al tipo datetime con su metodo correspondiente.\n",
    "- 3.3: Corregir las mayusculas en el caso de Nombre y Apellido (Si es que corresponde.)\n",
    "\n",
    "\n",
    "### 4. Obtención de Estadísticas Descriptivas\n",
    "\n",
    "Después de la limpieza, deben hacer lo siguiente: \n",
    "\n",
    "- 4.1: calcular nuevamente las estadísticas descriptivas para observar el impacto del proceso de limpieza en los datos numéricos.\n",
    "- 4.2: Calcular estadísticas específicas por grupo (Agrupar dos columnas).\n",
    "\n",
    "### 5. Visualización de los Datos con Matplotlib\n",
    "\n",
    "En esta sección, deben utilizar la librería Matplotlib para crear **UNA** visualización que permitan comprender mejor los datos de ventas.El grafico es a elección, puede crear **UNO** de los siguientes: histogramas, diagramas de dispersión, gráficos de barras y graficos de torta.\n",
    "\n",
    "### 6. Exportación a Archivo SQLite\n",
    "\n",
    "Finalmente, deben utilizar la funcionalidad de Pandas para guardar el DataFrame procesado en una base de datos SQLite. Deben hacer una conexión y hacer una consulta para ver si los datos fueron cargados correctamente.\n",
    "\n"
   ]
  },
  {
   "cell_type": "markdown",
   "id": "3344d02f",
   "metadata": {},
   "source": [
    "### 1. Importación del Dataset con Pandas\n",
    "utilizaremos la libreria Pandas para la importacion del DataSet"
   ]
  },
  {
   "cell_type": "code",
   "execution_count": 392,
   "id": "08a704ee",
   "metadata": {},
   "outputs": [],
   "source": [
    "import pandas as pd\n",
    "\n",
    "df=pd.read_csv(\"ventas.csv\", index_col=False)"
   ]
  },
  {
   "cell_type": "markdown",
   "id": "30cb9231",
   "metadata": {},
   "source": [
    "# 2. Exploración Inicial de los Datos\n",
    "### Visualizar las primeras 5 filas"
   ]
  },
  {
   "cell_type": "code",
   "execution_count": 393,
   "id": "75b46ede",
   "metadata": {},
   "outputs": [
    {
     "data": {
      "text/html": [
       "<div>\n",
       "<style scoped>\n",
       "    .dataframe tbody tr th:only-of-type {\n",
       "        vertical-align: middle;\n",
       "    }\n",
       "\n",
       "    .dataframe tbody tr th {\n",
       "        vertical-align: top;\n",
       "    }\n",
       "\n",
       "    .dataframe thead th {\n",
       "        text-align: right;\n",
       "    }\n",
       "</style>\n",
       "<table border=\"1\" class=\"dataframe\">\n",
       "  <thead>\n",
       "    <tr style=\"text-align: right;\">\n",
       "      <th></th>\n",
       "      <th>ID_Venta</th>\n",
       "      <th>Nombre_Cliente</th>\n",
       "      <th>Apellido_Cliente</th>\n",
       "      <th>Fecha</th>\n",
       "      <th>Producto</th>\n",
       "      <th>Cantidad</th>\n",
       "      <th>Precio_Unitario</th>\n",
       "      <th>Total_Venta</th>\n",
       "      <th>Metodo_Pago</th>\n",
       "      <th>Region</th>\n",
       "    </tr>\n",
       "  </thead>\n",
       "  <tbody>\n",
       "    <tr>\n",
       "      <th>0</th>\n",
       "      <td>1</td>\n",
       "      <td>Ana</td>\n",
       "      <td>García</td>\n",
       "      <td>01-05-2024</td>\n",
       "      <td>Laptop</td>\n",
       "      <td>1</td>\n",
       "      <td>1200.50</td>\n",
       "      <td>1200.50</td>\n",
       "      <td>Tarjeta de Crédito</td>\n",
       "      <td>Norte</td>\n",
       "    </tr>\n",
       "    <tr>\n",
       "      <th>1</th>\n",
       "      <td>2</td>\n",
       "      <td>Carlos</td>\n",
       "      <td>López</td>\n",
       "      <td>2024-01-08</td>\n",
       "      <td>Mouse Inalámbrico</td>\n",
       "      <td>2</td>\n",
       "      <td>25.75</td>\n",
       "      <td>51.50</td>\n",
       "      <td>Efectivo</td>\n",
       "      <td>Sur</td>\n",
       "    </tr>\n",
       "    <tr>\n",
       "      <th>2</th>\n",
       "      <td>3</td>\n",
       "      <td>sofía</td>\n",
       "      <td>martínez</td>\n",
       "      <td>2024-01-12</td>\n",
       "      <td>Teclado Mecánico</td>\n",
       "      <td>1</td>\n",
       "      <td>75.99</td>\n",
       "      <td>75.99</td>\n",
       "      <td>Transferencia Bancaria</td>\n",
       "      <td>Este</td>\n",
       "    </tr>\n",
       "    <tr>\n",
       "      <th>3</th>\n",
       "      <td>4</td>\n",
       "      <td>pedro</td>\n",
       "      <td>rodríguez</td>\n",
       "      <td>2024-01-15</td>\n",
       "      <td>Monitor 24 pulgadas</td>\n",
       "      <td>1</td>\n",
       "      <td>NaN</td>\n",
       "      <td>NaN</td>\n",
       "      <td>Tarjeta de Débito</td>\n",
       "      <td>Oeste</td>\n",
       "    </tr>\n",
       "    <tr>\n",
       "      <th>4</th>\n",
       "      <td>5</td>\n",
       "      <td>Laura</td>\n",
       "      <td>Sánchez</td>\n",
       "      <td>18-01-2024</td>\n",
       "      <td>Auriculares Bluetooth</td>\n",
       "      <td>1</td>\n",
       "      <td>99.95</td>\n",
       "      <td>99.95</td>\n",
       "      <td>Tarjeta de Crédito</td>\n",
       "      <td>Norte</td>\n",
       "    </tr>\n",
       "  </tbody>\n",
       "</table>\n",
       "</div>"
      ],
      "text/plain": [
       "   ID_Venta Nombre_Cliente Apellido_Cliente       Fecha  \\\n",
       "0         1            Ana           García  01-05-2024   \n",
       "1         2         Carlos            López  2024-01-08   \n",
       "2         3          sofía         martínez  2024-01-12   \n",
       "3         4          pedro        rodríguez  2024-01-15   \n",
       "4         5          Laura          Sánchez  18-01-2024   \n",
       "\n",
       "                Producto  Cantidad  Precio_Unitario  Total_Venta  \\\n",
       "0                 Laptop         1          1200.50      1200.50   \n",
       "1      Mouse Inalámbrico         2            25.75        51.50   \n",
       "2       Teclado Mecánico         1            75.99        75.99   \n",
       "3    Monitor 24 pulgadas         1              NaN          NaN   \n",
       "4  Auriculares Bluetooth         1            99.95        99.95   \n",
       "\n",
       "              Metodo_Pago Region  \n",
       "0      Tarjeta de Crédito  Norte  \n",
       "1                Efectivo    Sur  \n",
       "2  Transferencia Bancaria   Este  \n",
       "3       Tarjeta de Débito  Oeste  \n",
       "4      Tarjeta de Crédito  Norte  "
      ]
     },
     "execution_count": 393,
     "metadata": {},
     "output_type": "execute_result"
    }
   ],
   "source": [
    "\n",
    "df.head()"
   ]
  },
  {
   "cell_type": "markdown",
   "id": "39576a0f",
   "metadata": {},
   "source": [
    "### Visualizamos las ultimas 5 filas"
   ]
  },
  {
   "cell_type": "code",
   "execution_count": 394,
   "id": "bd0c523c",
   "metadata": {},
   "outputs": [
    {
     "data": {
      "text/html": [
       "<div>\n",
       "<style scoped>\n",
       "    .dataframe tbody tr th:only-of-type {\n",
       "        vertical-align: middle;\n",
       "    }\n",
       "\n",
       "    .dataframe tbody tr th {\n",
       "        vertical-align: top;\n",
       "    }\n",
       "\n",
       "    .dataframe thead th {\n",
       "        text-align: right;\n",
       "    }\n",
       "</style>\n",
       "<table border=\"1\" class=\"dataframe\">\n",
       "  <thead>\n",
       "    <tr style=\"text-align: right;\">\n",
       "      <th></th>\n",
       "      <th>ID_Venta</th>\n",
       "      <th>Nombre_Cliente</th>\n",
       "      <th>Apellido_Cliente</th>\n",
       "      <th>Fecha</th>\n",
       "      <th>Producto</th>\n",
       "      <th>Cantidad</th>\n",
       "      <th>Precio_Unitario</th>\n",
       "      <th>Total_Venta</th>\n",
       "      <th>Metodo_Pago</th>\n",
       "      <th>Region</th>\n",
       "    </tr>\n",
       "  </thead>\n",
       "  <tbody>\n",
       "    <tr>\n",
       "      <th>100</th>\n",
       "      <td>101</td>\n",
       "      <td>Agustín</td>\n",
       "      <td>Torres</td>\n",
       "      <td>2024-10-08</td>\n",
       "      <td>Pen Drive 64GB</td>\n",
       "      <td>4</td>\n",
       "      <td>8.75</td>\n",
       "      <td>35.0</td>\n",
       "      <td>Tarjeta de Débito</td>\n",
       "      <td>Oeste</td>\n",
       "    </tr>\n",
       "    <tr>\n",
       "      <th>101</th>\n",
       "      <td>102</td>\n",
       "      <td>Camila</td>\n",
       "      <td>Vega</td>\n",
       "      <td>2024-10-11</td>\n",
       "      <td>Laptop Ligera</td>\n",
       "      <td>1</td>\n",
       "      <td>NaN</td>\n",
       "      <td>1180.0</td>\n",
       "      <td>Tarjeta de Crédito</td>\n",
       "      <td>Norte</td>\n",
       "    </tr>\n",
       "    <tr>\n",
       "      <th>102</th>\n",
       "      <td>103</td>\n",
       "      <td>Juan</td>\n",
       "      <td>Rojas</td>\n",
       "      <td>2024-10-15</td>\n",
       "      <td>NaN</td>\n",
       "      <td>1</td>\n",
       "      <td>48.99</td>\n",
       "      <td>NaN</td>\n",
       "      <td>Efectivo</td>\n",
       "      <td>Sur</td>\n",
       "    </tr>\n",
       "    <tr>\n",
       "      <th>103</th>\n",
       "      <td>104</td>\n",
       "      <td>Lucía</td>\n",
       "      <td>Silva</td>\n",
       "      <td>2024-10-18</td>\n",
       "      <td>Teclado Bluetooth</td>\n",
       "      <td>1</td>\n",
       "      <td>78.20</td>\n",
       "      <td>78.2</td>\n",
       "      <td>Transferencia Bancaria</td>\n",
       "      <td>Este</td>\n",
       "    </tr>\n",
       "    <tr>\n",
       "      <th>104</th>\n",
       "      <td>105</td>\n",
       "      <td>mateo</td>\n",
       "      <td>luna</td>\n",
       "      <td>2024-10-22</td>\n",
       "      <td>Monitor para Oficina</td>\n",
       "      <td>1</td>\n",
       "      <td>2.00</td>\n",
       "      <td>210.5</td>\n",
       "      <td>Tarjeta de Débito</td>\n",
       "      <td>Oeste</td>\n",
       "    </tr>\n",
       "  </tbody>\n",
       "</table>\n",
       "</div>"
      ],
      "text/plain": [
       "     ID_Venta Nombre_Cliente Apellido_Cliente       Fecha  \\\n",
       "100       101        Agustín           Torres  2024-10-08   \n",
       "101       102         Camila             Vega  2024-10-11   \n",
       "102       103           Juan            Rojas  2024-10-15   \n",
       "103       104          Lucía            Silva  2024-10-18   \n",
       "104       105          mateo             luna  2024-10-22   \n",
       "\n",
       "                 Producto  Cantidad  Precio_Unitario  Total_Venta  \\\n",
       "100        Pen Drive 64GB         4             8.75         35.0   \n",
       "101         Laptop Ligera         1              NaN       1180.0   \n",
       "102                   NaN         1            48.99          NaN   \n",
       "103     Teclado Bluetooth         1            78.20         78.2   \n",
       "104  Monitor para Oficina         1             2.00        210.5   \n",
       "\n",
       "                Metodo_Pago Region  \n",
       "100       Tarjeta de Débito  Oeste  \n",
       "101      Tarjeta de Crédito  Norte  \n",
       "102                Efectivo    Sur  \n",
       "103  Transferencia Bancaria   Este  \n",
       "104       Tarjeta de Débito  Oeste  "
      ]
     },
     "execution_count": 394,
     "metadata": {},
     "output_type": "execute_result"
    }
   ],
   "source": [
    "df.tail()"
   ]
  },
  {
   "cell_type": "markdown",
   "id": "8dc82de0",
   "metadata": {},
   "source": [
    "### Obtenemos informacion del df con su metodo correspondiente."
   ]
  },
  {
   "cell_type": "code",
   "execution_count": 395,
   "id": "357066b7",
   "metadata": {},
   "outputs": [
    {
     "name": "stdout",
     "output_type": "stream",
     "text": [
      "<class 'pandas.core.frame.DataFrame'>\n",
      "RangeIndex: 105 entries, 0 to 104\n",
      "Data columns (total 10 columns):\n",
      " #   Column            Non-Null Count  Dtype  \n",
      "---  ------            --------------  -----  \n",
      " 0   ID_Venta          105 non-null    int64  \n",
      " 1   Nombre_Cliente    105 non-null    object \n",
      " 2   Apellido_Cliente  105 non-null    object \n",
      " 3   Fecha             105 non-null    object \n",
      " 4   Producto          101 non-null    object \n",
      " 5   Cantidad          105 non-null    int64  \n",
      " 6   Precio_Unitario   92 non-null     float64\n",
      " 7   Total_Venta       92 non-null     float64\n",
      " 8   Metodo_Pago       94 non-null     object \n",
      " 9   Region            100 non-null    object \n",
      "dtypes: float64(2), int64(2), object(6)\n",
      "memory usage: 8.3+ KB\n"
     ]
    }
   ],
   "source": [
    "df.info()"
   ]
  },
  {
   "cell_type": "markdown",
   "id": "e62f17ef",
   "metadata": {},
   "source": [
    "### Realizamos un conteo de los datos nulos (si es que los hay)."
   ]
  },
  {
   "cell_type": "code",
   "execution_count": 396,
   "id": "d76b4b5b",
   "metadata": {},
   "outputs": [
    {
     "data": {
      "text/plain": [
       "ID_Venta             0\n",
       "Nombre_Cliente       0\n",
       "Apellido_Cliente     0\n",
       "Fecha                0\n",
       "Producto             4\n",
       "Cantidad             0\n",
       "Precio_Unitario     13\n",
       "Total_Venta         13\n",
       "Metodo_Pago         11\n",
       "Region               5\n",
       "dtype: int64"
      ]
     },
     "execution_count": 396,
     "metadata": {},
     "output_type": "execute_result"
    }
   ],
   "source": [
    "df.isnull().sum()"
   ]
  },
  {
   "cell_type": "markdown",
   "id": "9923596d",
   "metadata": {},
   "source": [
    "# 3. Limpieza y Normalización de los Datos\n",
    "\n",
    "#### pasaremos todos los datos a numeros para evitar errores.\n",
    "\n"
   ]
  },
  {
   "cell_type": "code",
   "execution_count": 397,
   "id": "dd750173",
   "metadata": {},
   "outputs": [],
   "source": [
    "\n",
    "df[\"Precio_Unitario\"]=pd.to_numeric(df[\"Precio_Unitario\"], errors=\"coerce\")\n",
    "df[\"Total_Venta\"]=pd.to_numeric(df[\"Total_Venta\"], errors=\"coerce\")\n"
   ]
  },
  {
   "cell_type": "markdown",
   "id": "114ff855",
   "metadata": {},
   "source": [
    "#### Pasaremos los datos NaN con el valor de la media.\n",
    "#### Tambien todos aquellos datos NaN que no puedan ser pasados a media o algun valor numero lo cambiaremos."
   ]
  },
  {
   "cell_type": "code",
   "execution_count": 398,
   "id": "53c6c159",
   "metadata": {},
   "outputs": [
    {
     "name": "stderr",
     "output_type": "stream",
     "text": [
      "C:\\Users\\Emilio\\AppData\\Local\\Temp\\ipykernel_31348\\657244804.py:3: FutureWarning: A value is trying to be set on a copy of a DataFrame or Series through chained assignment using an inplace method.\n",
      "The behavior will change in pandas 3.0. This inplace method will never work because the intermediate object on which we are setting values always behaves as a copy.\n",
      "\n",
      "For example, when doing 'df[col].method(value, inplace=True)', try using 'df.method({col: value}, inplace=True)' or df[col] = df[col].method(value) instead, to perform the operation inplace on the original object.\n",
      "\n",
      "\n",
      "  df[\"Metodo_Pago\"].fillna(\"Desconocido\", inplace=True)\n",
      "C:\\Users\\Emilio\\AppData\\Local\\Temp\\ipykernel_31348\\657244804.py:4: FutureWarning: A value is trying to be set on a copy of a DataFrame or Series through chained assignment using an inplace method.\n",
      "The behavior will change in pandas 3.0. This inplace method will never work because the intermediate object on which we are setting values always behaves as a copy.\n",
      "\n",
      "For example, when doing 'df[col].method(value, inplace=True)', try using 'df.method({col: value}, inplace=True)' or df[col] = df[col].method(value) instead, to perform the operation inplace on the original object.\n",
      "\n",
      "\n",
      "  df[\"Region\"].fillna(\"Sin Region\", inplace=True)\n",
      "C:\\Users\\Emilio\\AppData\\Local\\Temp\\ipykernel_31348\\657244804.py:5: FutureWarning: A value is trying to be set on a copy of a DataFrame or Series through chained assignment using an inplace method.\n",
      "The behavior will change in pandas 3.0. This inplace method will never work because the intermediate object on which we are setting values always behaves as a copy.\n",
      "\n",
      "For example, when doing 'df[col].method(value, inplace=True)', try using 'df.method({col: value}, inplace=True)' or df[col] = df[col].method(value) instead, to perform the operation inplace on the original object.\n",
      "\n",
      "\n",
      "  df[\"Producto\"].fillna(\"Producto Desconocido\", inplace=True)\n"
     ]
    }
   ],
   "source": [
    "df[\"Total_Venta\"]=df[\"Total_Venta\"].fillna(df[\"Total_Venta\"].median()).round(1)\n",
    "df[\"Precio_Unitario\"]=df[\"Precio_Unitario\"].fillna(df[\"Precio_Unitario\"].median()).round(1)\n",
    "df[\"Metodo_Pago\"].fillna(\"Desconocido\", inplace=True)\n",
    "df[\"Region\"].fillna(\"Sin Region\", inplace=True)\n",
    "df[\"Producto\"].fillna(\"Producto Desconocido\", inplace=True)\n",
    "\n"
   ]
  },
  {
   "cell_type": "markdown",
   "id": "6e1bb10a",
   "metadata": {},
   "source": [
    " #### Pasaremos la columna fecha al tipo datetime con su metodo correspondiente."
   ]
  },
  {
   "cell_type": "code",
   "execution_count": 399,
   "id": "0e9cb084",
   "metadata": {},
   "outputs": [
    {
     "data": {
      "text/plain": [
       "0     2024-05-01\n",
       "1     2024-01-08\n",
       "2     2024-01-12\n",
       "3     2024-01-15\n",
       "4     2024-01-18\n",
       "         ...    \n",
       "100   2024-10-08\n",
       "101   2024-10-11\n",
       "102   2024-10-15\n",
       "103   2024-10-18\n",
       "104   2024-10-22\n",
       "Name: Fecha, Length: 105, dtype: datetime64[ns]"
      ]
     },
     "execution_count": 399,
     "metadata": {},
     "output_type": "execute_result"
    }
   ],
   "source": [
    "fechas=pd.Series(df[\"Fecha\"])\n",
    "\n",
    "fecha_bien=pd.to_datetime(fechas, format=\"%Y-%m-%d\", errors=\"coerce\")\n",
    "fecha_bien2=pd.to_datetime(fechas, format=\"%d-%m-%Y\", errors=\"coerce\")\n",
    "\n",
    "fecha_perfecta=fecha_bien.combine_first(fecha_bien2)\n",
    "fecha_perfecta\n"
   ]
  },
  {
   "cell_type": "markdown",
   "id": "73abe6f7",
   "metadata": {},
   "source": [
    "#### Verificamos el cambio"
   ]
  },
  {
   "cell_type": "code",
   "execution_count": 400,
   "id": "23a5c6bf",
   "metadata": {},
   "outputs": [
    {
     "name": "stdout",
     "output_type": "stream",
     "text": [
      "<class 'pandas.core.frame.DataFrame'>\n",
      "RangeIndex: 105 entries, 0 to 104\n",
      "Data columns (total 10 columns):\n",
      " #   Column            Non-Null Count  Dtype         \n",
      "---  ------            --------------  -----         \n",
      " 0   ID_Venta          105 non-null    int64         \n",
      " 1   Nombre_Cliente    105 non-null    object        \n",
      " 2   Apellido_Cliente  105 non-null    object        \n",
      " 3   Fecha             105 non-null    datetime64[ns]\n",
      " 4   Producto          105 non-null    object        \n",
      " 5   Cantidad          105 non-null    int64         \n",
      " 6   Precio_Unitario   105 non-null    float64       \n",
      " 7   Total_Venta       105 non-null    float64       \n",
      " 8   Metodo_Pago       105 non-null    object        \n",
      " 9   Region            105 non-null    object        \n",
      "dtypes: datetime64[ns](1), float64(2), int64(2), object(5)\n",
      "memory usage: 8.3+ KB\n"
     ]
    }
   ],
   "source": [
    "df[\"Fecha\"]=fecha_perfecta\n",
    "df.info()"
   ]
  },
  {
   "cell_type": "markdown",
   "id": "e4b641d2",
   "metadata": {},
   "source": [
    "### Corregiremos las mayusculas en los Nombre y Apellido (Si es que corresponde.)"
   ]
  },
  {
   "cell_type": "code",
   "execution_count": 401,
   "id": "4f4d3b27",
   "metadata": {},
   "outputs": [],
   "source": [
    "df[\"Nombre_Cliente\"]=df[\"Nombre_Cliente\"].str.title()\n",
    "df[\"Apellido_Cliente\"]=df[\"Apellido_Cliente\"].str.title()\n"
   ]
  },
  {
   "cell_type": "markdown",
   "id": "96d81e9a",
   "metadata": {},
   "source": [
    "### 4. Obtención de Estadísticas Descriptivas\n",
    "\n",
    "##### Luego de la limpieza de datos volvemos a ver las estadisticas descriptivas\n"
   ]
  },
  {
   "cell_type": "code",
   "execution_count": 402,
   "id": "c4e37589",
   "metadata": {},
   "outputs": [
    {
     "data": {
      "text/html": [
       "<div>\n",
       "<style scoped>\n",
       "    .dataframe tbody tr th:only-of-type {\n",
       "        vertical-align: middle;\n",
       "    }\n",
       "\n",
       "    .dataframe tbody tr th {\n",
       "        vertical-align: top;\n",
       "    }\n",
       "\n",
       "    .dataframe thead th {\n",
       "        text-align: right;\n",
       "    }\n",
       "</style>\n",
       "<table border=\"1\" class=\"dataframe\">\n",
       "  <thead>\n",
       "    <tr style=\"text-align: right;\">\n",
       "      <th></th>\n",
       "      <th>ID_Venta</th>\n",
       "      <th>Fecha</th>\n",
       "      <th>Cantidad</th>\n",
       "      <th>Precio_Unitario</th>\n",
       "      <th>Total_Venta</th>\n",
       "    </tr>\n",
       "  </thead>\n",
       "  <tbody>\n",
       "    <tr>\n",
       "      <th>count</th>\n",
       "      <td>105.0</td>\n",
       "      <td>105</td>\n",
       "      <td>105.0</td>\n",
       "      <td>105.0</td>\n",
       "      <td>105.0</td>\n",
       "    </tr>\n",
       "    <tr>\n",
       "      <th>mean</th>\n",
       "      <td>53.0</td>\n",
       "      <td>2024-06-21 13:42:51.428571392</td>\n",
       "      <td>1.0</td>\n",
       "      <td>222.0</td>\n",
       "      <td>232.0</td>\n",
       "    </tr>\n",
       "    <tr>\n",
       "      <th>min</th>\n",
       "      <td>1.0</td>\n",
       "      <td>2024-01-08 00:00:00</td>\n",
       "      <td>1.0</td>\n",
       "      <td>2.0</td>\n",
       "      <td>0.0</td>\n",
       "    </tr>\n",
       "    <tr>\n",
       "      <th>25%</th>\n",
       "      <td>27.0</td>\n",
       "      <td>2024-04-09 00:00:00</td>\n",
       "      <td>1.0</td>\n",
       "      <td>55.0</td>\n",
       "      <td>63.0</td>\n",
       "    </tr>\n",
       "    <tr>\n",
       "      <th>50%</th>\n",
       "      <td>53.0</td>\n",
       "      <td>2024-07-05 00:00:00</td>\n",
       "      <td>1.0</td>\n",
       "      <td>91.0</td>\n",
       "      <td>97.0</td>\n",
       "    </tr>\n",
       "    <tr>\n",
       "      <th>75%</th>\n",
       "      <td>79.0</td>\n",
       "      <td>2024-09-06 00:00:00</td>\n",
       "      <td>1.0</td>\n",
       "      <td>165.0</td>\n",
       "      <td>185.0</td>\n",
       "    </tr>\n",
       "    <tr>\n",
       "      <th>max</th>\n",
       "      <td>105.0</td>\n",
       "      <td>2024-10-22 00:00:00</td>\n",
       "      <td>4.0</td>\n",
       "      <td>1801.0</td>\n",
       "      <td>1801.0</td>\n",
       "    </tr>\n",
       "    <tr>\n",
       "      <th>std</th>\n",
       "      <td>30.0</td>\n",
       "      <td>NaN</td>\n",
       "      <td>1.0</td>\n",
       "      <td>371.0</td>\n",
       "      <td>358.0</td>\n",
       "    </tr>\n",
       "  </tbody>\n",
       "</table>\n",
       "</div>"
      ],
      "text/plain": [
       "       ID_Venta                          Fecha  Cantidad  Precio_Unitario  \\\n",
       "count     105.0                            105     105.0            105.0   \n",
       "mean       53.0  2024-06-21 13:42:51.428571392       1.0            222.0   \n",
       "min         1.0            2024-01-08 00:00:00       1.0              2.0   \n",
       "25%        27.0            2024-04-09 00:00:00       1.0             55.0   \n",
       "50%        53.0            2024-07-05 00:00:00       1.0             91.0   \n",
       "75%        79.0            2024-09-06 00:00:00       1.0            165.0   \n",
       "max       105.0            2024-10-22 00:00:00       4.0           1801.0   \n",
       "std        30.0                            NaN       1.0            371.0   \n",
       "\n",
       "       Total_Venta  \n",
       "count        105.0  \n",
       "mean         232.0  \n",
       "min            0.0  \n",
       "25%           63.0  \n",
       "50%           97.0  \n",
       "75%          185.0  \n",
       "max         1801.0  \n",
       "std          358.0  "
      ]
     },
     "execution_count": 402,
     "metadata": {},
     "output_type": "execute_result"
    }
   ],
   "source": [
    "df.describe().round()"
   ]
  },
  {
   "cell_type": "markdown",
   "id": "94017d73",
   "metadata": {},
   "source": [
    "#### Tambien vamos a obtener la informacion nuevamente\n"
   ]
  },
  {
   "cell_type": "code",
   "execution_count": 403,
   "id": "b7aa3075",
   "metadata": {},
   "outputs": [
    {
     "name": "stdout",
     "output_type": "stream",
     "text": [
      "<class 'pandas.core.frame.DataFrame'>\n",
      "RangeIndex: 105 entries, 0 to 104\n",
      "Data columns (total 10 columns):\n",
      " #   Column            Non-Null Count  Dtype         \n",
      "---  ------            --------------  -----         \n",
      " 0   ID_Venta          105 non-null    int64         \n",
      " 1   Nombre_Cliente    105 non-null    object        \n",
      " 2   Apellido_Cliente  105 non-null    object        \n",
      " 3   Fecha             105 non-null    datetime64[ns]\n",
      " 4   Producto          105 non-null    object        \n",
      " 5   Cantidad          105 non-null    int64         \n",
      " 6   Precio_Unitario   105 non-null    float64       \n",
      " 7   Total_Venta       105 non-null    float64       \n",
      " 8   Metodo_Pago       105 non-null    object        \n",
      " 9   Region            105 non-null    object        \n",
      "dtypes: datetime64[ns](1), float64(2), int64(2), object(5)\n",
      "memory usage: 8.3+ KB\n"
     ]
    }
   ],
   "source": [
    "df.info()"
   ]
  },
  {
   "cell_type": "markdown",
   "id": "5f990179",
   "metadata": {},
   "source": [
    "#### Agruparemos los totales de venta de cada producto."
   ]
  },
  {
   "cell_type": "code",
   "execution_count": 404,
   "id": "6b1f32ec",
   "metadata": {},
   "outputs": [
    {
     "data": {
      "text/html": [
       "<div>\n",
       "<style scoped>\n",
       "    .dataframe tbody tr th:only-of-type {\n",
       "        vertical-align: middle;\n",
       "    }\n",
       "\n",
       "    .dataframe tbody tr th {\n",
       "        vertical-align: top;\n",
       "    }\n",
       "\n",
       "    .dataframe thead th {\n",
       "        text-align: right;\n",
       "    }\n",
       "</style>\n",
       "<table border=\"1\" class=\"dataframe\">\n",
       "  <thead>\n",
       "    <tr style=\"text-align: right;\">\n",
       "      <th></th>\n",
       "      <th>Total_Venta</th>\n",
       "    </tr>\n",
       "    <tr>\n",
       "      <th>Producto</th>\n",
       "      <th></th>\n",
       "    </tr>\n",
       "  </thead>\n",
       "  <tbody>\n",
       "    <tr>\n",
       "      <th>Altavoces Inteligentes</th>\n",
       "      <td>70.0</td>\n",
       "    </tr>\n",
       "    <tr>\n",
       "      <th>Auriculares Bluetooth</th>\n",
       "      <td>140.0</td>\n",
       "    </tr>\n",
       "    <tr>\n",
       "      <th>Auriculares Deportivos</th>\n",
       "      <td>76.0</td>\n",
       "    </tr>\n",
       "    <tr>\n",
       "      <th>Auriculares In-Ear</th>\n",
       "      <td>100.0</td>\n",
       "    </tr>\n",
       "    <tr>\n",
       "      <th>Auriculares Over-Ear</th>\n",
       "      <td>97.0</td>\n",
       "    </tr>\n",
       "    <tr>\n",
       "      <th>...</th>\n",
       "      <td>...</td>\n",
       "    </tr>\n",
       "    <tr>\n",
       "      <th>Teclado RGB</th>\n",
       "      <td>110.0</td>\n",
       "    </tr>\n",
       "    <tr>\n",
       "      <th>Teclado Retroiluminado</th>\n",
       "      <td>85.0</td>\n",
       "    </tr>\n",
       "    <tr>\n",
       "      <th>Webcam 4K</th>\n",
       "      <td>80.0</td>\n",
       "    </tr>\n",
       "    <tr>\n",
       "      <th>Webcam Básica</th>\n",
       "      <td>30.0</td>\n",
       "    </tr>\n",
       "    <tr>\n",
       "      <th>Webcam HD</th>\n",
       "      <td>46.0</td>\n",
       "    </tr>\n",
       "  </tbody>\n",
       "</table>\n",
       "<p>78 rows × 1 columns</p>\n",
       "</div>"
      ],
      "text/plain": [
       "                        Total_Venta\n",
       "Producto                           \n",
       "Altavoces Inteligentes         70.0\n",
       "Auriculares Bluetooth         140.0\n",
       "Auriculares Deportivos         76.0\n",
       "Auriculares In-Ear            100.0\n",
       "Auriculares Over-Ear           97.0\n",
       "...                             ...\n",
       "Teclado RGB                   110.0\n",
       "Teclado Retroiluminado         85.0\n",
       "Webcam 4K                      80.0\n",
       "Webcam Básica                  30.0\n",
       "Webcam HD                      46.0\n",
       "\n",
       "[78 rows x 1 columns]"
      ]
     },
     "execution_count": 404,
     "metadata": {},
     "output_type": "execute_result"
    }
   ],
   "source": [
    "total_de_ventas=df.groupby(\"Producto\")[[\"Total_Venta\"]].mean().round()\n",
    "total_de_ventas"
   ]
  },
  {
   "cell_type": "markdown",
   "id": "854c3e8f",
   "metadata": {},
   "source": [
    "### 5. Visualización de los Datos con Matplotlib\n",
    "Utizaremos la libreria matplolib para una mejor comprension en base a graficos descriptivos.\n",
    "En este caso veremos la cantidad de ventas y sus formas de pago"
   ]
  },
  {
   "cell_type": "code",
   "execution_count": 405,
   "id": "6ca47ce1",
   "metadata": {},
   "outputs": [
    {
     "data": {
      "image/png": "[encoded data removed]",
      "text/plain": [
       "<Figure size 640x480 with 1 Axes>"
      ]
     },
     "metadata": {},
     "output_type": "display_data"
    }
   ],
   "source": [
    "import matplotlib.pyplot as plt\n",
    "\n",
    "ventas=df.groupby(\"Metodo_Pago\")[[\"Total_Venta\"]].mean().round()\n",
    "\n",
    "plt.Figure(figsize=(15,7))\n",
    "plt.title(\"Totales de venta y su forma de pago\")\n",
    "plt.bar(ventas.index,ventas[\"Total_Venta\"].values, color=\"pink\", alpha=0.9, edgecolor=\"black\")\n",
    "plt.grid()\n",
    "plt.xticks(rotation=50)\n",
    "plt.show()"
   ]
  },
  {
   "cell_type": "markdown",
   "id": "ea2c577f",
   "metadata": {},
   "source": [
    "### 6. Exportación a Archivo SQLite\n",
    "\n",
    "##### Utilizaremos la libreria de Pandas para guardar el DataFrame procesado en una base de datos SQLite.\n",
    "\n"
   ]
  },
  {
   "cell_type": "code",
   "execution_count": 406,
   "id": "4e02e52f",
   "metadata": {},
   "outputs": [],
   "source": [
    "import sqlite3\n",
    "\n",
    "\n",
    "conn= sqlite3.connect(\"Ventas_normalizadas.SQLite\")\n",
    "\n",
    "df.to_sql(\"Ventas\", conn, if_exists=\"replace\", index=False)\n",
    "conn.close()"
   ]
  },
  {
   "cell_type": "markdown",
   "id": "74afd4e3",
   "metadata": {},
   "source": [
    "#### Msotramos la base de datos"
   ]
  },
  {
   "cell_type": "code",
   "execution_count": 407,
   "id": "2a0bd80d",
   "metadata": {},
   "outputs": [
    {
     "data": {
      "text/html": [
       "<div>\n",
       "<style scoped>\n",
       "    .dataframe tbody tr th:only-of-type {\n",
       "        vertical-align: middle;\n",
       "    }\n",
       "\n",
       "    .dataframe tbody tr th {\n",
       "        vertical-align: top;\n",
       "    }\n",
       "\n",
       "    .dataframe thead th {\n",
       "        text-align: right;\n",
       "    }\n",
       "</style>\n",
       "<table border=\"1\" class=\"dataframe\">\n",
       "  <thead>\n",
       "    <tr style=\"text-align: right;\">\n",
       "      <th></th>\n",
       "      <th>ID_Venta</th>\n",
       "      <th>Nombre_Cliente</th>\n",
       "      <th>Apellido_Cliente</th>\n",
       "      <th>Fecha</th>\n",
       "      <th>Producto</th>\n",
       "      <th>Cantidad</th>\n",
       "      <th>Precio_Unitario</th>\n",
       "      <th>Total_Venta</th>\n",
       "      <th>Metodo_Pago</th>\n",
       "      <th>Region</th>\n",
       "    </tr>\n",
       "  </thead>\n",
       "  <tbody>\n",
       "    <tr>\n",
       "      <th>0</th>\n",
       "      <td>1</td>\n",
       "      <td>Ana</td>\n",
       "      <td>García</td>\n",
       "      <td>2024-05-01 00:00:00</td>\n",
       "      <td>Laptop</td>\n",
       "      <td>1</td>\n",
       "      <td>1200.5</td>\n",
       "      <td>1200.5</td>\n",
       "      <td>Tarjeta de Crédito</td>\n",
       "      <td>Norte</td>\n",
       "    </tr>\n",
       "    <tr>\n",
       "      <th>1</th>\n",
       "      <td>2</td>\n",
       "      <td>Carlos</td>\n",
       "      <td>López</td>\n",
       "      <td>2024-01-08 00:00:00</td>\n",
       "      <td>Mouse Inalámbrico</td>\n",
       "      <td>2</td>\n",
       "      <td>25.8</td>\n",
       "      <td>51.5</td>\n",
       "      <td>Efectivo</td>\n",
       "      <td>Sur</td>\n",
       "    </tr>\n",
       "    <tr>\n",
       "      <th>2</th>\n",
       "      <td>3</td>\n",
       "      <td>Sofía</td>\n",
       "      <td>Martínez</td>\n",
       "      <td>2024-01-12 00:00:00</td>\n",
       "      <td>Teclado Mecánico</td>\n",
       "      <td>1</td>\n",
       "      <td>76.0</td>\n",
       "      <td>76.0</td>\n",
       "      <td>Transferencia Bancaria</td>\n",
       "      <td>Este</td>\n",
       "    </tr>\n",
       "    <tr>\n",
       "      <th>3</th>\n",
       "      <td>4</td>\n",
       "      <td>Pedro</td>\n",
       "      <td>Rodríguez</td>\n",
       "      <td>2024-01-15 00:00:00</td>\n",
       "      <td>Monitor 24 pulgadas</td>\n",
       "      <td>1</td>\n",
       "      <td>91.0</td>\n",
       "      <td>97.2</td>\n",
       "      <td>Tarjeta de Débito</td>\n",
       "      <td>Oeste</td>\n",
       "    </tr>\n",
       "    <tr>\n",
       "      <th>4</th>\n",
       "      <td>5</td>\n",
       "      <td>Laura</td>\n",
       "      <td>Sánchez</td>\n",
       "      <td>2024-01-18 00:00:00</td>\n",
       "      <td>Auriculares Bluetooth</td>\n",
       "      <td>1</td>\n",
       "      <td>100.0</td>\n",
       "      <td>100.0</td>\n",
       "      <td>Tarjeta de Crédito</td>\n",
       "      <td>Norte</td>\n",
       "    </tr>\n",
       "  </tbody>\n",
       "</table>\n",
       "</div>"
      ],
      "text/plain": [
       "   ID_Venta Nombre_Cliente Apellido_Cliente                Fecha  \\\n",
       "0         1            Ana           García  2024-05-01 00:00:00   \n",
       "1         2         Carlos            López  2024-01-08 00:00:00   \n",
       "2         3          Sofía         Martínez  2024-01-12 00:00:00   \n",
       "3         4          Pedro        Rodríguez  2024-01-15 00:00:00   \n",
       "4         5          Laura          Sánchez  2024-01-18 00:00:00   \n",
       "\n",
       "                Producto  Cantidad  Precio_Unitario  Total_Venta  \\\n",
       "0                 Laptop         1           1200.5       1200.5   \n",
       "1      Mouse Inalámbrico         2             25.8         51.5   \n",
       "2       Teclado Mecánico         1             76.0         76.0   \n",
       "3    Monitor 24 pulgadas         1             91.0         97.2   \n",
       "4  Auriculares Bluetooth         1            100.0        100.0   \n",
       "\n",
       "              Metodo_Pago Region  \n",
       "0      Tarjeta de Crédito  Norte  \n",
       "1                Efectivo    Sur  \n",
       "2  Transferencia Bancaria   Este  \n",
       "3       Tarjeta de Débito  Oeste  \n",
       "4      Tarjeta de Crédito  Norte  "
      ]
     },
     "execution_count": 407,
     "metadata": {},
     "output_type": "execute_result"
    }
   ],
   "source": [
    "conn= sqlite3.connect(\"Ventas_normalizadas.SQLite\")\n",
    "df_base=pd.read_sql_query(\"SELECT * FROM Ventas\", conn)\n",
    "df_base.head()"
   ]
  }
 ],
 "metadata": {
  "kernelspec": {
   "display_name": "env",
   "language": "python",
   "name": "python3"
  },
  "language_info": {
   "codemirror_mode": {
    "name": "ipython",
    "version": 3
   },
   "file_extension": ".py",
   "mimetype": "text/x-python",
   "name": "python",
   "nbconvert_exporter": "python",
   "pygments_lexer": "ipython3",
   "version": "3.12.6"
  }
 },
 "nbformat": 4,
 "nbformat_minor": 5
}
